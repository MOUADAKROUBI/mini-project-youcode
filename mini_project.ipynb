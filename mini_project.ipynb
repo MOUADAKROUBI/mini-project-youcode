{
 "cells": [
  {
   "cell_type": "code",
   "execution_count": 19,
   "id": "0c2cde54-e0e2-49c6-bbe4-31bf427c178c",
   "metadata": {},
   "outputs": [],
   "source": [
    "import pandas as pd\n",
    "import matplotlib.pyplot as plt"
   ]
  },
  {
   "cell_type": "code",
   "execution_count": 24,
   "id": "c0241b6f-9cae-4b44-89b3-7daaa7bba2ec",
   "metadata": {},
   "outputs": [],
   "source": [
    "file_path=\"data-sell4all.xlsx\""
   ]
  },
  {
   "cell_type": "code",
   "execution_count": 26,
   "id": "025f1e92-f423-43ec-a2be-68f9e0c3744e",
   "metadata": {},
   "outputs": [],
   "source": [
    "data = pd.read_excel(file_path)"
   ]
  },
  {
   "cell_type": "code",
   "execution_count": 27,
   "id": "a7bafb50-9a5e-4d2d-93a7-717c60f76bff",
   "metadata": {},
   "outputs": [
    {
     "data": {
      "text/html": [
       "<div>\n",
       "<style scoped>\n",
       "    .dataframe tbody tr th:only-of-type {\n",
       "        vertical-align: middle;\n",
       "    }\n",
       "\n",
       "    .dataframe tbody tr th {\n",
       "        vertical-align: top;\n",
       "    }\n",
       "\n",
       "    .dataframe thead th {\n",
       "        text-align: right;\n",
       "    }\n",
       "</style>\n",
       "<table border=\"1\" class=\"dataframe\">\n",
       "  <thead>\n",
       "    <tr style=\"text-align: right;\">\n",
       "      <th></th>\n",
       "      <th>Pays</th>\n",
       "      <th>Age</th>\n",
       "      <th>Genre</th>\n",
       "      <th>Dépenses des clients</th>\n",
       "    </tr>\n",
       "  </thead>\n",
       "  <tbody>\n",
       "    <tr>\n",
       "      <th>0</th>\n",
       "      <td>France</td>\n",
       "      <td>32</td>\n",
       "      <td>Female</td>\n",
       "      <td>150.50</td>\n",
       "    </tr>\n",
       "    <tr>\n",
       "      <th>1</th>\n",
       "      <td>Germany</td>\n",
       "      <td>45</td>\n",
       "      <td>Male</td>\n",
       "      <td>200.75</td>\n",
       "    </tr>\n",
       "    <tr>\n",
       "      <th>2</th>\n",
       "      <td>Spain</td>\n",
       "      <td>28</td>\n",
       "      <td>Female</td>\n",
       "      <td>75.25</td>\n",
       "    </tr>\n",
       "    <tr>\n",
       "      <th>3</th>\n",
       "      <td>Italy</td>\n",
       "      <td>39</td>\n",
       "      <td>Male</td>\n",
       "      <td>180.00</td>\n",
       "    </tr>\n",
       "    <tr>\n",
       "      <th>4</th>\n",
       "      <td>UK</td>\n",
       "      <td>52</td>\n",
       "      <td>Female</td>\n",
       "      <td>250.30</td>\n",
       "    </tr>\n",
       "  </tbody>\n",
       "</table>\n",
       "</div>"
      ],
      "text/plain": [
       "      Pays  Age    Genre Dépenses des clients\n",
       "0   France    32  Female               150.50\n",
       "1  Germany    45    Male               200.75\n",
       "2    Spain    28  Female                75.25\n",
       "3    Italy    39    Male               180.00\n",
       "4       UK    52  Female               250.30"
      ]
     },
     "execution_count": 27,
     "metadata": {},
     "output_type": "execute_result"
    }
   ],
   "source": [
    "data.head()"
   ]
  },
  {
   "cell_type": "code",
   "execution_count": 28,
   "id": "cc71af37-6fbc-41ee-b901-7ba0a03dd115",
   "metadata": {},
   "outputs": [
    {
     "name": "stdout",
     "output_type": "stream",
     "text": [
      "<class 'pandas.core.frame.DataFrame'>\n",
      "RangeIndex: 65 entries, 0 to 64\n",
      "Data columns (total 4 columns):\n",
      " #   Column                Non-Null Count  Dtype \n",
      "---  ------                --------------  ----- \n",
      " 0   Pays                  65 non-null     object\n",
      " 1    Age                  62 non-null     object\n",
      " 2   Genre                 64 non-null     object\n",
      " 3   Dépenses des clients  63 non-null     object\n",
      "dtypes: object(4)\n",
      "memory usage: 2.2+ KB\n"
     ]
    }
   ],
   "source": [
    "data.info()"
   ]
  },
  {
   "cell_type": "markdown",
   "id": "563039f5-b067-4483-8c37-e6afc254b937",
   "metadata": {},
   "source": [
    "### Nettoyage des Données\n",
    "\n",
    "Dans cette étape, nous allons nettoyer les données en convertissant les valeurs non numériques dans les colonnsA'Âge' et 'Dépenses des clients' en `NaN`. Cela nous permet de calculer correctement la médiane et la moyenne sans rencontrer d'erreurs dues à des types de données invalides.\n"
   ]
  },
  {
   "cell_type": "code",
   "execution_count": 42,
   "id": "72de10cd-0726-4ebb-afd6-caf76b499015",
   "metadata": {},
   "outputs": [],
   "source": [
    "data[' Age '] = pd.to_numeric(data[' Age '], errors='coerce')\n",
    "data['Dépenses des clients'] = pd.to_numeric(data['Dépenses des clients'], errors='coerce')\n"
   ]
  },
  {
   "cell_type": "markdown",
   "id": "7fbffed9-be12-4600-b859-de217652b6cd",
   "metadata": {},
   "source": [
    "### Calcul de la Médiane et de la Moyenne\n",
    "\n",
    "Après avoir nettoyé les données, nous calculons la médiane et la moyenne des colonnes 'Âge' et 'Dépenses des clients'. Cela nous donne une idée des valeurs centrales et moyennes dans notre ensemble de données, en excluant les valeurs non numériques.\n",
    "de données invalides.\n"
   ]
  },
  {
   "cell_type": "code",
   "execution_count": 43,
   "id": "54bc3cd5-8bbe-43ed-8bea-d4b0a3320abb",
   "metadata": {},
   "outputs": [
    {
     "name": "stdout",
     "output_type": "stream",
     "text": [
      "Median Age: 36.0, Mean Age: 52.42372881355932\n",
      "Median Spending: 167.5, Mean Spending: 34811.72948275862\n"
     ]
    }
   ],
   "source": [
    "median_age = data[' Age '].median()\n",
    "mean_age = data[' Age '].mean()\n",
    "median_spending = data['Dépenses des clients'].median()\n",
    "mean_spending = data['Dépenses des clients'].mean()\n",
    "\n",
    "print(f\"Median Age: {median_age}, Mean Age: {mean_age}\")\n",
    "print(f\"Median Spending: {median_spending}, Mean Spending: {mean_spending}\")"
   ]
  },
  {
   "cell_type": "markdown",
   "id": "2999b952-37fc-4cb5-ad4e-a95ca1f80d1c",
   "metadata": {},
   "source": [
    "### Visualisation des Dépenses par Pays\n",
    "\n",
    "Nous allons maintenant visualiser les dépenses des clients par pays. Cela nous aidera à comprendre quelles régions contribuent le plus aux dépenses totales. La visualisation est réalisée à l'aide d'un graphique à barres.\n",
    "s.\n"
   ]
  },
  {
   "cell_type": "code",
   "execution_count": 36,
   "id": "b68af426-b55d-4d4f-be3c-2eb1a0bc347e",
   "metadata": {},
   "outputs": [
    {
     "data": {
      "image/png": "[encoded data removed]",
      "text/plain": [
       "<Figure size 640x480 with 1 Axes>"
      ]
     },
     "metadata": {},
     "output_type": "display_data"
    }
   ],
   "source": [
    "data.groupby('Pays')['Dépenses des clients'].sum().plot(kind='bar')\n",
    "plt.title('Customer Spending by Country')\n",
    "plt.xlabel('Country')\n",
    "plt.ylabel('Total Spending')\n",
    "plt.show()"
   ]
  },
  {
   "cell_type": "markdown",
   "id": "1e890a4e-4248-494e-bf30-35a9eeb1de3a",
   "metadata": {},
   "source": [
    "### Sauvegarde des Données Nettoyées\n",
    "\n",
    "Une fois les données nettoyées, nous les sauvegardons dans un nouveau fichier Excel appelé 'cleaned_data.xlsx'. Ce fichier contient uniquement les informations pertinentes sans les doublons ou les valeurs anormale\n"
   ]
  },
  {
   "cell_type": "code",
   "execution_count": 37,
   "id": "aa6c721b-e201-41e4-b9a5-83d0a8d55c27",
   "metadata": {},
   "outputs": [],
   "source": [
    "data_cleaned = data[data['Dépenses des clients'] >= 10].drop_duplicates()"
   ]
  },
  {
   "cell_type": "code",
   "execution_count": 38,
   "id": "9a78d22c-73d5-46d1-a514-b91220873feb",
   "metadata": {},
   "outputs": [],
   "source": [
    "data_cleaned = data_cleaned[['Pays', ' Age ', 'Genre', 'Dépenses des clients']]\n",
    "data_cleaned.to_csv('cleaned_data.csv', index=False)"
   ]
  },
  {
   "cell_type": "markdown",
   "id": "ef105467-87e5-43e4-92d4-f2b423c6676e",
   "metadata": {
    "jp-MarkdownHeadingCollapsed": true
   },
   "source": [
    "### Résumé Global\n",
    "\n",
    "Ce notebook montre comment charger un fichier Excel, nettoyer les données, calculer des statistiques de base, visualiser les résultats, et enfin, sauvegarder les données nettoyées. Ces étapes sont essentielles pour analyser et traiter des données de manière efficace.\n"
   ]
  }
 ],
 "metadata": {
  "kernelspec": {
   "display_name": "Python 3 (ipykernel)",
   "language": "python",
   "name": "python3"
  },
  "language_info": {
   "codemirror_mode": {
    "name": "ipython",
    "version": 3
   },
   "file_extension": ".py",
   "mimetype": "text/x-python",
   "name": "python",
   "nbconvert_exporter": "python",
   "pygments_lexer": "ipython3",
   "version": "3.12.4"
  }
 },
 "nbformat": 4,
 "nbformat_minor": 5
}
